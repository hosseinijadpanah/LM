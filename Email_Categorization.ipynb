{
  "nbformat": 4,
  "nbformat_minor": 0,
  "metadata": {
    "colab": {
      "provenance": []
    },
    "kernelspec": {
      "name": "python3",
      "display_name": "Python 3"
    },
    "language_info": {
      "name": "python"
    }
  },
  "cells": [
    {
      "cell_type": "markdown",
      "source": [
        "# Email Filtering or Email Categorization or Email Classification:\n",
        "Email classification, often referred to as email filtering or email categorization, is the process of automatically classifying incoming emails into different categories based on their content, characteristics, or sender information. One common use case of email classification is distinguishing between spam (unwanted or unsolicited emails) and legitimate emails (not spam).\n",
        "\n",
        "\n",
        "Data Collection and Preparation:\n",
        "\n",
        "Gather a large dataset of emails that includes examples of both spam and non-spam (ham) emails. This dataset will be used for training and testing your classification model.\n",
        "\n",
        "Feature Extraction:\n",
        "\n",
        "Extract relevant features from the emails. Features could include the email's subject, sender, recipient, message body, attachments, and any other attributes that might be informative for classification.\n",
        "\n",
        "Data Labeling:\n",
        "\n",
        "Manually label each email in your dataset as either spam or not spam. This is typically done during the data preparation phase.\n",
        "\n",
        "Data Preprocessing:\n",
        "\n",
        "Clean and preprocess the text data. This involves tasks like removing HTML tags, converting text to lowercase, removing punctuation, and tokenization.\n",
        "\n",
        "Feature Engineering:\n",
        "\n",
        "Transform the extracted features into a numerical format suitable for machine learning algorithms. Common techniques include **TF-IDF (Term Frequency-Inverse** **Document Frequency) vectorization or word embeddings** like **Word2Vec or GloVe**.\n",
        "\n",
        "Model Selection:\n",
        "\n",
        "Choose a machine learning algorithm or model for email classification. Common choices include:\n",
        "\n",
        "- Naive Bayes classifiers\n",
        "\n",
        "- Support Vector Machines (SVM)\n",
        "\n",
        "- Decision Trees and Random Forests\n",
        "\n",
        "- Neural Networks (e.g., LSTM or CNN for text classification)\n",
        "\n",
        "Model Training:\n",
        "\n",
        "Split your labeled dataset into a training set and a testing set (or use cross-validation). Train your chosen model on the training data.\n",
        "\n",
        "Model Evaluation:\n",
        "\n",
        "Evaluate the performance of your model using appropriate evaluation metrics like accuracy, precision, recall, F1-score, and AUC-ROC. Adjust the model and its hyperparameters as needed to improve performance.\n",
        "\n",
        "Deployment:\n",
        "\n",
        "Once you have a well-performing model, integrate it into your email system. Incoming emails can be automatically classified as spam or not spam based on the model's predictions.\n",
        "\n",
        "Feedback Loop:\n",
        "\n",
        "Continuously monitor the performance of your email classification system. Collect user feedback and use it to improve the model and adapt to new spamming techniques.\n",
        "\n",
        "Threshold Adjustment:\n",
        "\n",
        "Set a classification threshold to determine when an email is classified as spam. This threshold can be adjusted to control false positives and false negatives based on the specific requirements of your system.\n",
        "\n",
        "Maintenance:\n",
        "\n",
        "Periodically retrain your model with fresh data to keep it up to date with evolving email patterns and spamming techniques.\n",
        "Email classification systems are essential for managing email inboxes, reducing the impact of spam, and ensuring that legitimate emails are not mistakenly classified as spam. They play a crucial role in enhancing email security and user experience."
      ],
      "metadata": {
        "id": "JbhDaYm0-XYf"
      }
    },
    {
      "cell_type": "markdown",
      "source": [
        "Creating a complete email categorization system is a complex task that involves several components and may require integration with email servers or APIs, natural language processing libraries, and machine learning models. Below, I'll provide a high-level overview of the steps and code snippets for each component involved in building such a system using Python. Please note that this is a **simplified example**, and you may need to adapt and extend it to meet your specific requirements.\n",
        "\n",
        "\n",
        "Data Collection: You'll need a source of emails to categorize. You can collect emails from a mailbox, a database, or use a dataset. For this example, let's assume you have a dataset in **CSV format with columns \"Subject\" and \"Body\"**.\n",
        "\n",
        "Preprocessing: Preprocess the email data by cleaning and preparing it for analysis. This may include tokenization, removing stop words, and stemming or lemmatization.\n",
        "\n",
        "\n",
        "\n",
        "**Integration with Email System**: For a production system, you would need to integrate this code with your email server or email client to automatically categorize incoming emails. The integration process will depend on your email system.\n",
        "\n"
      ],
      "metadata": {
        "id": "S0KF_FwnBbmz"
      }
    },
    {
      "cell_type": "markdown",
      "source": [
        " our **email_data.csv** is very small corpus and  its contain just 6 email with different part (Subject,Body,Category) :\n",
        "![image.png](data:image/png;base64,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)\n",
        "\n",
        "\n"
      ],
      "metadata": {
        "id": "KlEdBuAVHUB0"
      }
    },
    {
      "cell_type": "code",
      "source": [
        "import pandas as pd\n",
        "import nltk\n",
        "from nltk.corpus import stopwords\n",
        "from nltk.tokenize import word_tokenize\n",
        "from nltk.stem import PorterStemmer\n",
        "\n",
        "nltk.download(\"stopwords\")\n",
        "nltk.download(\"punkt\")\n",
        "\n",
        "# Load your dataset\n",
        "df = pd.read_csv(\"email_data.csv\")\n",
        "\n",
        "# Define a function for text preprocessing\n",
        "def preprocess_text(text):\n",
        "    # Tokenize the text\n",
        "    words = word_tokenize(text.lower())\n",
        "\n",
        "    # Remove stop words\n",
        "    stop_words = set(stopwords.words(\"english\"))\n",
        "    words = [word for word in words if word not in stop_words]\n",
        "\n",
        "    # Apply stemming\n",
        "    stemmer = PorterStemmer()\n",
        "    words = [stemmer.stem(word) for word in words]\n",
        "\n",
        "    return \" \".join(words)\n",
        "\n",
        "# Preprocess the email data\n",
        "df[\"Processed_Text\"] = df[\"Subject\"] + \" \" + df[\"Body\"]\n",
        "df[\"Processed_Text\"] = df[\"Processed_Text\"].apply(preprocess_text)\n",
        "\n",
        "\n",
        "# Print the preprocessed data\n",
        "print(df.head())\n"
      ],
      "metadata": {
        "colab": {
          "base_uri": "https://localhost:8080/"
        },
        "id": "08DnhiNTBstP",
        "outputId": "f4fb4a46-9a73-45e6-90cc-fd47727cd52b"
      },
      "execution_count": 2,
      "outputs": [
        {
          "output_type": "stream",
          "name": "stdout",
          "text": [
            "            Subject                                         Body  \\\n",
            "0   Job Opportunity     Hello, we have a job opportunity for you   \n",
            "1        Newsletter  Check out our latest newsletter for updates   \n",
            "2    Discount Offer           Get 20% off on your next purchase!   \n",
            "3  Important Update  Please review the important update attached   \n",
            "4     Exciting News       Exciting news about our upcoming event   \n",
            "\n",
            "        Category                                 Processed_Text  \n",
            "0            Job              job opportun hello , job opportun  \n",
            "1           News           newslett check latest newslett updat  \n",
            "2  Advertisement         discount offer get 20 % next purchas !  \n",
            "3           News  import updat pleas review import updat attach  \n",
            "4           News              excit news excit news upcom event  \n"
          ]
        },
        {
          "output_type": "stream",
          "name": "stderr",
          "text": [
            "[nltk_data] Downloading package stopwords to /root/nltk_data...\n",
            "[nltk_data]   Package stopwords is already up-to-date!\n",
            "[nltk_data] Downloading package punkt to /root/nltk_data...\n",
            "[nltk_data]   Package punkt is already up-to-date!\n"
          ]
        }
      ]
    },
    {
      "cell_type": "code",
      "source": [
        "# Feature Extraction: Convert the text data into numerical features using techniques like TF-IDF\n",
        "# (Term Frequency-Inverse Document Frequency) or word embeddings.\n",
        "\n",
        "from sklearn.feature_extraction.text import TfidfVectorizer\n",
        "\n",
        "# Create a TF-IDF vectorizer\n",
        "tfidf_vectorizer = TfidfVectorizer(max_features=5000)\n",
        "\n",
        "# Transform the processed text data into TF-IDF vectors\n",
        "tfidf_matrix = tfidf_vectorizer.fit_transform(df[\"Processed_Text\"])\n"
      ],
      "metadata": {
        "id": "WPNcbbdvBzo2"
      },
      "execution_count": 3,
      "outputs": []
    },
    {
      "cell_type": "code",
      "source": [
        "# for ML model You can use algorithms like Naive Bayes, Random Forest, or a neural network.\n",
        "from sklearn.naive_bayes import MultinomialNB\n",
        "from sklearn.model_selection import train_test_split\n",
        "from sklearn.metrics import accuracy_score\n",
        "\n",
        "# Split the data into training and testing sets\n",
        "X_train, X_test, y_train, y_test = train_test_split(\n",
        "    tfidf_matrix, df[\"Category\"], test_size=0.2, random_state=42\n",
        ")\n",
        "\n",
        "# Train a Naive Bayes classifier\n",
        "nb_classifier = MultinomialNB()\n",
        "nb_classifier.fit(X_train, y_train)\n",
        "\n",
        "# Make predictions on the test data\n",
        "y_pred = nb_classifier.predict(X_test)\n",
        "\n",
        "# Evaluate the model's performance\n",
        "accuracy = accuracy_score(y_test, y_pred)\n",
        "print(f\"Accuracy: {accuracy}\")\n",
        "\n",
        "# Accuracy: 0.5 ---> becouse our corpus was very very samll just 6 email."
      ],
      "metadata": {
        "colab": {
          "base_uri": "https://localhost:8080/"
        },
        "id": "IEB4i9bcB7V5",
        "outputId": "fbac76ae-ee3e-4e83-e13e-cae3f8f29265"
      },
      "execution_count": 4,
      "outputs": [
        {
          "output_type": "stream",
          "name": "stdout",
          "text": [
            "Accuracy: 0.5\n"
          ]
        }
      ]
    },
    {
      "cell_type": "code",
      "source": [
        "# Email Categorization: Use the trained model to categorize new emails\n",
        "\n",
        "# Example email content\n",
        "new_email = \"\"\"Subject: Invitation to Our Event\n",
        "Body:\n",
        "Dear recipient,\n",
        "\n",
        "We are excited to invite you to our upcoming event. It promises to be an exciting evening filled with entertainment and surprises.\n",
        "\n",
        "Date: January 20, 2024\n",
        "Time: 6:00 PM\n",
        "Location: 123 Main Street\n",
        "\n",
        "We look forward to seeing you there!\n",
        "\n",
        "Best regards,\n",
        "Your Event Team\n",
        "\"\"\"\n",
        "\n",
        "# Preprocess and extract features from the new email\n",
        "new_email_processed = preprocess_text(new_email)\n",
        "new_email_vector = tfidf_vectorizer.transform([new_email_processed])\n",
        "\n",
        "# Predict the category of the new email\n",
        "predicted_category = nb_classifier.predict(new_email_vector)[0]\n",
        "print(f\"Predicted category for the new email: {predicted_category}\")\n"
      ],
      "metadata": {
        "colab": {
          "base_uri": "https://localhost:8080/"
        },
        "id": "_I0dTkas-Xt7",
        "outputId": "7e2589ae-527d-4078-83b7-ecf7ffcce421"
      },
      "execution_count": 5,
      "outputs": [
        {
          "output_type": "stream",
          "name": "stdout",
          "text": [
            "Predicted category for the new email: News\n"
          ]
        }
      ]
    }
  ]
}